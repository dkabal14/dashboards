{
 "cells": [
  {
   "cell_type": "code",
   "execution_count": 1,
   "metadata": {},
   "outputs": [],
   "source": [
    "from Highbond_API_Class import hbapi"
   ]
  },
  {
   "cell_type": "code",
   "execution_count": 2,
   "metadata": {},
   "outputs": [],
   "source": [
    "token = '916dc0b9ef80720934afb8a4479cb9c29384daedd1191c5f7774f89e7f56c358'\n",
    "org_id = '3065'\n",
    "robot_id = '91040'"
   ]
  },
  {
   "cell_type": "code",
   "execution_count": 3,
   "metadata": {},
   "outputs": [],
   "source": [
    "instHbApi = hbapi(token, org_id)"
   ]
  },
  {
   "cell_type": "code",
   "execution_count": 4,
   "metadata": {},
   "outputs": [
    {
     "name": "stdout",
     "output_type": "stream",
     "text": [
      "Iniciando a requisição HTTP...\n",
      "Código: 200\n",
      "Mensagem: Requisição executada com sucesso\n",
      "\n"
     ]
    },
    {
     "data": {
      "text/plain": [
       "{'data': [{'id': '231726',\n",
       "   'type': 'robot_apps',\n",
       "   'attributes': {'comment': 'Edite o script para criar a primeira versão',\n",
       "    'version': 0,\n",
       "    'created_at': '2023-12-18T12:31:24.779Z'},\n",
       "   'relationships': {}},\n",
       "  {'id': '231730',\n",
       "   'type': 'robot_apps',\n",
       "   'attributes': {'comment': 'Teste de instalação pdfquery',\n",
       "    'version': 1,\n",
       "    'created_at': '2023-12-18T12:46:16.942Z'},\n",
       "   'relationships': {}},\n",
       "  {'id': '234886',\n",
       "   'type': 'robot_apps',\n",
       "   'attributes': {'comment': 'Análise Completa',\n",
       "    'version': 2,\n",
       "    'created_at': '2024-01-04T18:19:17.240Z'},\n",
       "   'relationships': {}},\n",
       "  {'id': '234893',\n",
       "   'type': 'robot_apps',\n",
       "   'attributes': {'comment': 'Adicionada exportação de xlsx.',\n",
       "    'version': 3,\n",
       "    'created_at': '2024-01-04T18:36:59.790Z'},\n",
       "   'relationships': {}},\n",
       "  {'id': '234894',\n",
       "   'type': 'robot_apps',\n",
       "   'attributes': {'comment': 'Teste da Exportação',\n",
       "    'version': 4,\n",
       "    'created_at': '2024-01-04T18:45:52.544Z'},\n",
       "   'relationships': {}},\n",
       "  {'id': '234906',\n",
       "   'type': 'robot_apps',\n",
       "   'attributes': {'comment': 'Adicionada exportação de um csv de erros',\n",
       "    'version': 5,\n",
       "    'created_at': '2024-01-04T19:01:00.190Z'},\n",
       "   'relationships': {}},\n",
       "  {'id': '237250',\n",
       "   'type': 'robot_apps',\n",
       "   'attributes': {'comment': 'teste',\n",
       "    'version': 6,\n",
       "    'created_at': '2024-01-13T19:15:53.366Z'},\n",
       "   'relationships': {}},\n",
       "  {'id': '237253',\n",
       "   'type': 'robot_apps',\n",
       "   'attributes': {'comment': 'Versão 1',\n",
       "    'version': 7,\n",
       "    'created_at': '2024-01-13T19:46:15.584Z'},\n",
       "   'relationships': {}},\n",
       "  {'id': '237255',\n",
       "   'type': 'robot_apps',\n",
       "   'attributes': {'comment': 'Ajuste fino 1',\n",
       "    'version': 8,\n",
       "    'created_at': '2024-01-13T19:52:12.441Z'},\n",
       "   'relationships': {}}]}"
      ]
     },
     "execution_count": 4,
     "metadata": {},
     "output_type": "execute_result"
    }
   ],
   "source": [
    "arquivo = 'c:/Users/Trabalho/Downloads/Teste_Diego_API.acl'\n",
    "instHbApi.getRobotApps('87558')"
   ]
  },
  {
   "cell_type": "code",
   "execution_count": 7,
   "metadata": {},
   "outputs": [
    {
     "name": "stdout",
     "output_type": "stream",
     "text": [
      "Iniciando a requisição HTTP...\n",
      "Código: 200\n",
      "Mensagem: Requisição executada com sucesso\n",
      "\n"
     ]
    },
    {
     "data": {
      "text/plain": [
       "{'data': {'id': '237255',\n",
       "  'type': 'robot_apps',\n",
       "  'attributes': {'comment': 'Ajuste fino 1',\n",
       "   'version': 8,\n",
       "   'created_at': '2024-01-13T19:52:12.441Z'},\n",
       "  'relationships': {}}}"
      ]
     },
     "execution_count": 7,
     "metadata": {},
     "output_type": "execute_result"
    }
   ],
   "source": [
    "instHbApi.getRobotApp('87558', '237255')"
   ]
  },
  {
   "cell_type": "code",
   "execution_count": 6,
   "metadata": {},
   "outputs": [
    {
     "name": "stdout",
     "output_type": "stream",
     "text": [
      "Iniciando a requisição HTTP...\n",
      "Código: 200\n",
      "Mensagem: Requisição executada com sucesso\n",
      "\n"
     ]
    },
    {
     "data": {
      "text/plain": [
       "{'data': {'id': '237255',\n",
       "  'type': 'robot_apps',\n",
       "  'attributes': {'comment': 'Ajuste fino 1',\n",
       "   'version': 8,\n",
       "   'created_at': '2024-01-13T19:52:12.441Z'},\n",
       "  'relationships': {}}}"
      ]
     },
     "execution_count": 6,
     "metadata": {},
     "output_type": "execute_result"
    }
   ],
   "source": [
    "instHbApi.getRobotScriptVersion('87558', '237255')"
   ]
  },
  {
   "cell_type": "code",
   "execution_count": 27,
   "metadata": {},
   "outputs": [
    {
     "name": "stdout",
     "output_type": "stream",
     "text": [
      "1\n",
      "2\n",
      "3\n",
      "4\n",
      "5\n"
     ]
    }
   ],
   "source": [
    "import time\n",
    "i = 1\n",
    "while True:\n",
    "\n",
    "    print(i)\n",
    "    i = i + 1\n",
    "    time.sleep(1)\n",
    "\n",
    "    if i > 5:\n",
    "        break"
   ]
  }
 ],
 "metadata": {
  "kernelspec": {
   "display_name": "Python 3",
   "language": "python",
   "name": "python3"
  },
  "language_info": {
   "codemirror_mode": {
    "name": "ipython",
    "version": 3
   },
   "file_extension": ".py",
   "mimetype": "text/x-python",
   "name": "python",
   "nbconvert_exporter": "python",
   "pygments_lexer": "ipython3",
   "version": "3.11.6"
  }
 },
 "nbformat": 4,
 "nbformat_minor": 2
}
